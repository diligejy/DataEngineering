{
 "cells": [
  {
   "cell_type": "code",
   "execution_count": 1,
   "id": "2cadfab4-6782-42aa-b61d-bcc95f9deb90",
   "metadata": {},
   "outputs": [
    {
     "data": {
      "text/plain": [
       "[Row(word=['hello', 'world', 'and', 'pyspark'])]"
      ]
     },
     "execution_count": 1,
     "metadata": {},
     "output_type": "execute_result"
    }
   ],
   "source": [
    "from pyspark.sql import (functions, Row, SparkSession)\n",
    "\n",
    "spark = SparkSession.builder.appName(\"df_wordcount\").getOrCreate()\n",
    "\n",
    "# functions.explode(col)\n",
    "# Returns a new row for each element in the given array or map\n",
    "df = spark.createDataFrame([Row(a=1, intlist=[1, 2, 3], mapfield={\"a\" : \"b\"})])\n",
    "\n",
    "df.select(functions.explode(df.intlist).alias(\"anInt\")).collect()\n",
    "# output: [Row(anInt=1), Row(anInt=2), Row(anInt=3)]\n",
    "\n",
    "# functions.split(str, pattern, limit = 1)\n",
    "# Splits str around matches of the given pattern.\n",
    "df = spark.createDataFrame([Row(word=\"hello world and pyspark\")])\n",
    "df.select(functions.split(df.word, ' ').alias(\"word\")).collect()\n",
    "\n",
    "# csv_file_path = \"file:///home/jovyan/work/sample/lorem_ipsum.txt\"\n",
    "# df = spark.read.text(csv_file_path)\n",
    "\n",
    "# # # save as \"value\"\n",
    "# # df.show()\n",
    "\n",
    "# words = df.select(\n",
    "#     functions.explode(\n",
    "#         functions.split(df.value, ' ')).alias(\"word\"))\n",
    "# # words.show()\n",
    "# word_counts = words.groupBy(\"word\").count().orderBy(functions.col(\"count\").desc())\n",
    "# # \n",
    "# word_counts.show()"
   ]
  },
  {
   "cell_type": "code",
   "execution_count": null,
   "id": "e7090d36-9b63-463d-b232-159bd5b066d7",
   "metadata": {},
   "outputs": [],
   "source": []
  }
 ],
 "metadata": {
  "kernelspec": {
   "display_name": "Python 3 (ipykernel)",
   "language": "python",
   "name": "python3"
  },
  "language_info": {
   "codemirror_mode": {
    "name": "ipython",
    "version": 3
   },
   "file_extension": ".py",
   "mimetype": "text/x-python",
   "name": "python",
   "nbconvert_exporter": "python",
   "pygments_lexer": "ipython3",
   "version": "3.10.8"
  }
 },
 "nbformat": 4,
 "nbformat_minor": 5
}
