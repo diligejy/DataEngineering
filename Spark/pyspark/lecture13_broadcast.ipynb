{
 "cells": [
  {
   "cell_type": "code",
   "execution_count": 3,
   "id": "4d930909-5dbe-4190-9fd7-880fb6bacfba",
   "metadata": {},
   "outputs": [
    {
     "name": "stdout",
     "output_type": "stream",
     "text": [
      "1100: 217\n",
      "3801: 203\n",
      "2030: 200\n",
      "3021: 191\n",
      "9382: 189\n",
      "+-------------+-----+-----------------+\n",
      "|occupation_id|count|  occupation_name|\n",
      "+-------------+-----+-----------------+\n",
      "|         1100|  217|         engineer|\n",
      "|         3801|  203|          painter|\n",
      "|         2030|  200|        developer|\n",
      "|         3021|  191|chemistry teacher|\n",
      "|         9382|  189|           priest|\n",
      "+-------------+-----+-----------------+\n",
      "\n"
     ]
    }
   ],
   "source": [
    "from pyspark.sql import (functions as f, SparkSession, types as t)\n",
    "spark = SparkSession.builder.appName(\"df_most_interviewed\").getOrCreate()\n",
    "\n",
    "table_schema = t.StructType([\n",
    "    t.StructField(\"interviewer_id\", t.StringType(), False),\n",
    "    t.StructField(\"occupation_id\", t.StringType(), False),\n",
    "    t.StructField(\"rating\", t.IntegerType(), False)])\n",
    "\n",
    "csv_file_path = \"file:///home/jovyan/work/sample/like.csv\"\n",
    "\n",
    "df = spark.read.schema(table_schema).csv(csv_file_path)\n",
    "\n",
    "interviewer_count = df.groupBy(\"occupation_id\").count().orderBy(f.desc(\"count\"))\n",
    "\n",
    "for d in interviewer_count.select(\"occupation_id\", f.col(\"count\").alias(\"cnt\")).collect():\n",
    "    print(f\"{d.occupation_id}: {d.cnt}\")\n",
    "    \n",
    "    \n",
    "# But, What if we want to know what occupation_id is?  \n",
    "# 1100: engineer\n",
    "# 2030: developer\n",
    "# 3801: painter\n",
    "# 3021: chemistry teacher\n",
    "# 9382: priest\n",
    "\n",
    "meta = {\n",
    "    \"1100\": \"engineer\",\n",
    "    \"2030\": \"developer\",\n",
    "    \"3801\": \"painter\",\n",
    "    \"3021\": \"chemistry teacher\",\n",
    "    \"9382\": \"priest\"\n",
    "}\n",
    "\n",
    "occupation_dict = spark.sparkContext.broadcast(meta)\n",
    "\n",
    "def get_occupation_name(occupation_id: str) -> str:\n",
    "    return occupation_dict.value[occupation_id]\n",
    "\n",
    "occupation_lookup_udf = f.udf(get_occupation_name)\n",
    "\n",
    "occupation_with_name = interviewer_count.withColumn(\"occupation_name\", occupation_lookup_udf(f.col(\"occupation_id\")))\n",
    "\n",
    "occupation_with_name.show(10)"
   ]
  },
  {
   "cell_type": "code",
   "execution_count": null,
   "id": "f1d0e433-bad7-4551-aad9-6cd91c8494d0",
   "metadata": {},
   "outputs": [],
   "source": []
  }
 ],
 "metadata": {
  "kernelspec": {
   "display_name": "Python 3 (ipykernel)",
   "language": "python",
   "name": "python3"
  },
  "language_info": {
   "codemirror_mode": {
    "name": "ipython",
    "version": 3
   },
   "file_extension": ".py",
   "mimetype": "text/x-python",
   "name": "python",
   "nbconvert_exporter": "python",
   "pygments_lexer": "ipython3",
   "version": "3.10.8"
  }
 },
 "nbformat": 4,
 "nbformat_minor": 5
}
