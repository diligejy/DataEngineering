{
 "cells": [
  {
   "cell_type": "code",
   "execution_count": 1,
   "id": "2a3b59ce-4ba8-4171-8f8d-1e551bbe4efc",
   "metadata": {},
   "outputs": [
    {
     "name": "stdout",
     "output_type": "stream",
     "text": [
      "[(10000, 4.0), (40000, 7.0), (5000, 7.0), (4000, 2.0), (9000, 4.0), (8000, 9.0)]\n"
     ]
    }
   ],
   "source": [
    "import pyspark \n",
    "\n",
    "sc = pyspark.SparkContext.getOrCreate();\n",
    "test_file = \"file:///home/jovyan/work/sample/house_price.csv\"\n",
    "\n",
    "def parse_line(line: str):\n",
    "    city, price, count = line.split(',')\n",
    "    return (int(price), int(count))\n",
    "\n",
    "lines = sc.textFile(test_file)\n",
    "price_count = lines.map(parse_line)\n",
    "# [(10000, 3), (10000, 5), (40000, 7), (5000, 7), (4000, 2), (9000, 4), (5000, 7), (4000, 2), (8000, 9)]\n",
    "\n",
    "sum_of_count = price_count.mapValues(lambda count: (count, 1))\\\n",
    "                .reduceByKey(lambda a, b: (int(a[0]) + int(b[0]), int(a[1]) + int(b[1]))) \n",
    "\n",
    "# ('10000', (3, 1)), ('10000', (5, 1)) ...\n",
    "# [('10000', (8, 2)), ('4000', (4, 2)), ('9000', ('4', 1)), ('8000', ('9', 1)), ('40000', ('7', 1)), ('5000', (14, 2))]\n",
    "\n",
    "avg_by_count = sum_of_count.mapValues(lambda total_count: int(total_count[0]) / total_count[1])\n",
    "results = avg_by_count.collect()\n",
    "print(results)"
   ]
  },
  {
   "cell_type": "code",
   "execution_count": null,
   "id": "fc97e5d8-0dca-457b-9c29-df33b000859d",
   "metadata": {},
   "outputs": [],
   "source": []
  }
 ],
 "metadata": {
  "kernelspec": {
   "display_name": "Python 3 (ipykernel)",
   "language": "python",
   "name": "python3"
  },
  "language_info": {
   "codemirror_mode": {
    "name": "ipython",
    "version": 3
   },
   "file_extension": ".py",
   "mimetype": "text/x-python",
   "name": "python",
   "nbconvert_exporter": "python",
   "pygments_lexer": "ipython3",
   "version": "3.10.8"
  }
 },
 "nbformat": 4,
 "nbformat_minor": 5
}
