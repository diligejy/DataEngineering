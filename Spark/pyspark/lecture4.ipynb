{
 "cells": [
  {
   "cell_type": "code",
   "execution_count": 2,
   "id": "ad7f809d-2680-4f34-8b3f-d6fc42eb47be",
   "metadata": {},
   "outputs": [
    {
     "data": {
      "text/plain": [
       "[('a', (1, 2)), ('a', (1, 3))]"
      ]
     },
     "execution_count": 2,
     "metadata": {},
     "output_type": "execute_result"
    }
   ],
   "source": [
    "import pyspark\n",
    "\n",
    "sc = pyspark.SparkContext.getOrCreate();\n",
    "# Key / Value RDD\n",
    "\n",
    "# creating Key / Value RDD\n",
    "# total_by_brand = rdd.map(lambda brand: (brand, 1))\n",
    "\n",
    "# reduceByKey(): Merge the values for each key using an associative and commutative reduce function.\n",
    "from operator import add\n",
    "rdd = sc.parallelize([(\"a\", 1), (\"b\", 1), (\"a\", 1)])\n",
    "sorted(rdd.reduceByKey(add).collect())\n",
    "[('a', 2), ('b', 1)]\n",
    "\n",
    "\n",
    "# groupByKey(): Group the values for each key in the RDD into a single sequence. Hash-partitions the resulting RDD with numPartitions partitions.\n",
    "rdd = sc.parallelize([(\"a\", 1), (\"b\", 1), (\"a\", 1)])\n",
    "sorted(rdd.groupByKey().mapValues(len).collect())\n",
    "[('a', 2), ('b', 1)]\n",
    "sorted(rdd.groupByKey().mapValues(list).collect())\n",
    "[('a', [1, 1]), ('b', [1])]\n",
    "\n",
    "\n",
    "# sortByKey(): Sorts this RDD, which is assumed to consist of (key, value) pairs.\n",
    "tmp = [('a', 1), ('b', 2), ('1', 3), ('d', 4), ('2', 5)]\n",
    "sc.parallelize(tmp).sortByKey().first()\n",
    "('1', 3)\n",
    "\n",
    "\n",
    "# keys(), values(): Create a RDD of keys or just values\n",
    "rdd = sc.parallelize([(\"a\", 1), (\"b\", 1), (\"a\", 1)])\n",
    "rdd.keys()\n",
    "['a', 'b', 'a']\n",
    "\n",
    "# join, rightOuterJoin, leftOuterJoin, cogroup, subtractByKey\n",
    "x = sc.parallelize([(\"a\", 1), (\"b\", 4)])\n",
    "y = sc.parallelize([(\"a\", 2), (\"a\", 3)])\n",
    "sorted(x.join(y).collect())\n",
    "[('a', (1, 2)), ('a', (1, 3))]\n",
    "\n",
    "\n",
    "# Efficiency is the key for performance!!!\n",
    "# if you only need values, use mapValues() or flatMapValues()"
   ]
  },
  {
   "cell_type": "code",
   "execution_count": null,
   "id": "c912cd16-f580-4933-bf9b-77a1ed273413",
   "metadata": {},
   "outputs": [],
   "source": []
  }
 ],
 "metadata": {
  "kernelspec": {
   "display_name": "Python 3 (ipykernel)",
   "language": "python",
   "name": "python3"
  },
  "language_info": {
   "codemirror_mode": {
    "name": "ipython",
    "version": 3
   },
   "file_extension": ".py",
   "mimetype": "text/x-python",
   "name": "python",
   "nbconvert_exporter": "python",
   "pygments_lexer": "ipython3",
   "version": "3.10.8"
  }
 },
 "nbformat": 4,
 "nbformat_minor": 5
}
