{
 "cells": [
  {
   "cell_type": "code",
   "execution_count": null,
   "id": "8555aae3-994a-4508-a53d-4e1ef761b72c",
   "metadata": {},
   "outputs": [],
   "source": [
    "# map vs. flatMap\n",
    "\n",
    "# map transformation applies a function to each row in a DataFrame/Dataset and returns the new transformed Dataset.\n",
    "# 1 => 1\n",
    "# flatMap transformation flattens the DataFrame/Dataset after applying the function on every element and returns a new transformed Dataset. The returned Dataset will return more rows than the current DataFrame. It is also referred to as a one-to-many transformation function\n",
    "# 1 => Many\n",
    "# One of the use cases of flatMap() is to flatten column which contains arrays, list, or any nested collection\n",
    "\n",
    "import pyspark\n",
    "\n",
    "sc = pyspark.SparkContext.getOrCreate();\n",
    "rdd = sc.parallelize([(\"name\", \"joe,sarah,tom\"), (\"car\", \"hyundai\")])\n",
    "result = rdd.map(lambda x: x[1].split(\",\"))\n",
    "print(result.collect())\n",
    "# [['joe', 'sarah', 'tom'], ['hyundai']]\n",
    "\n",
    "rdd = sc.parallelize([(\"name\", \"joe,sarah,tom\"), (\"car\", \"hyundai\")])\n",
    "result = rdd.flatMap(lambda x: x[1].split(\",\"))\n",
    "print(result.collect())\n",
    "# ['joe', 'sarah', 'tom', 'hyundai']\n",
    "\n",
    "\n",
    "# test_file = \"file:///home/jovyan/work/sample/lorem_ipsum.txt\"\n",
    "# lines = sc.textFile(test_file)\n",
    "# words = lines.flatMap(lambda x: x.split())\n",
    "# word_count = words.countByValue()\n",
    "# print(word_count)\n",
    "# for word, count in word_count.items():\n",
    "#     print(f\"{word}: {count}\")\n",
    "    \n",
    "    \n",
    "# # How about sort by key?\n",
    "# word_count = words.map(lambda x: (x, 1)).reduceByKey(lambda x, y: x + y)\n",
    "# sorted_word_count = word_count.map(lambda x: (x[1], x[0])).sortByKey()\n",
    "# for word, count in sorted_word_count.collect():\n",
    "#     print(f\"{word}: {count}\")"
   ]
  }
 ],
 "metadata": {
  "kernelspec": {
   "display_name": "Python 3 (ipykernel)",
   "language": "python",
   "name": "python3"
  },
  "language_info": {
   "codemirror_mode": {
    "name": "ipython",
    "version": 3
   },
   "file_extension": ".py",
   "mimetype": "text/x-python",
   "name": "python",
   "nbconvert_exporter": "python",
   "pygments_lexer": "ipython3",
   "version": "3.10.8"
  }
 },
 "nbformat": 4,
 "nbformat_minor": 5
}
