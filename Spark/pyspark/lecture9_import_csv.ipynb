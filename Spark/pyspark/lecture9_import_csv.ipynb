{
 "cells": [
  {
   "cell_type": "code",
   "execution_count": 2,
   "id": "6d459a9f-290c-4f4a-8616-cd88b1ff75d4",
   "metadata": {},
   "outputs": [
    {
     "ename": "AttributeError",
     "evalue": "'SparkSession' object has no attribute 'read_option'",
     "output_type": "error",
     "traceback": [
      "\u001b[0;31m---------------------------------------------------------------------------\u001b[0m",
      "\u001b[0;31mAttributeError\u001b[0m                            Traceback (most recent call last)",
      "Cell \u001b[0;32mIn[2], line 14\u001b[0m\n\u001b[1;32m      9\u001b[0m csv_file_path \u001b[38;5;241m=\u001b[39m \u001b[38;5;124m\"\u001b[39m\u001b[38;5;124mfile:///home/jovyan/work/sample/age.csv\u001b[39m\u001b[38;5;124m\"\u001b[39m\n\u001b[1;32m     11\u001b[0m \u001b[38;5;66;03m# header option: either csv has header or not (default: header = false)\u001b[39;00m\n\u001b[1;32m     12\u001b[0m \u001b[38;5;66;03m# inferSchema: either all columns are str or not\u001b[39;00m\n\u001b[0;32m---> 14\u001b[0m data \u001b[38;5;241m=\u001b[39m \u001b[43mspark\u001b[49m\u001b[38;5;241;43m.\u001b[39;49m\u001b[43mread_option\u001b[49m(\u001b[38;5;124m\"\u001b[39m\u001b[38;5;124mheader\u001b[39m\u001b[38;5;124m\"\u001b[39m, \u001b[38;5;124m\"\u001b[39m\u001b[38;5;124mtrue\u001b[39m\u001b[38;5;124m\"\u001b[39m)\u001b[38;5;241m.\u001b[39moption(\u001b[38;5;124m\"\u001b[39m\u001b[38;5;124minferSchema\u001b[39m\u001b[38;5;124m\"\u001b[39m, \u001b[38;5;124m\"\u001b[39m\u001b[38;5;124mtrue\u001b[39m\u001b[38;5;124m\"\u001b[39m)\u001b[38;5;241m.\u001b[39mcsv(csv_file_path)\n\u001b[1;32m     16\u001b[0m \u001b[38;5;66;03m# age = spark.read.option(\"header\", \"true\").csv(csv_file_path)\u001b[39;00m\n\u001b[1;32m     17\u001b[0m \n\u001b[1;32m     18\u001b[0m \u001b[38;5;66;03m# # show schema\u001b[39;00m\n\u001b[0;32m   (...)\u001b[0m\n\u001b[1;32m     44\u001b[0m \u001b[38;5;66;03m# # average & round\u001b[39;00m\n\u001b[1;32m     45\u001b[0m \u001b[38;5;66;03m# data.select(data.name, data.age, data.country).groupBy(\"country\").agg(rnd(avg(\"age\"), 2).alias(\"avg_age\")).show()\u001b[39;00m\n",
      "\u001b[0;31mAttributeError\u001b[0m: 'SparkSession' object has no attribute 'read_option'"
     ]
    }
   ],
   "source": [
    "from pyspark.sql import SparkSession\n",
    "from pyspark.sql.functions import (\n",
    "    avg,\n",
    "    col,\n",
    "    round as rnd\n",
    ")\n",
    "\n",
    "spark = SparkSession.builder.appName(\"sql_import_csv\").getOrCreate()\n",
    "csv_file_path = \"file:///home/jovyan/work/sample/age.csv\"\n",
    "\n",
    "# header option: either csv has header or not (default: header = false)\n",
    "# inferSchema: either all columns are str or not\n",
    "\n",
    "data = spark.read_option(\"header\", \"true\").option(\"inferSchema\", \"true\").csv(csv_file_path)\n",
    "\n",
    "# age = spark.read.option(\"header\", \"true\").csv(csv_file_path)\n",
    "\n",
    "# # show schema\n",
    "# data.printSchema()\n",
    "\n",
    "# # show column name with data\n",
    "# data.select(\"name\", \"age\").show()\n",
    "\n",
    "# # filter the data for age of 20 above\n",
    "# data.filter(data.age > 20).show()\n",
    "\n",
    "# # group by age and aggregates for count\n",
    "# data.groupBy(\"age\").count().show()\n",
    "\n",
    "# # custom arithmetic\n",
    "# data.select(data.name, data.age, data.age - 10).show()\n",
    "\n",
    "# # column alias\n",
    "# data.select(data.name, col(\"age\").alias(\"age1\")).show()\n",
    "\n",
    "\n",
    "# # average\n",
    "# data.select(data.name, data.age, data.country).groupBy(\"country\").avg(\"age\").show()\n",
    "\n",
    "# # average & Sort\n",
    "# data.select(data.name, data.age, data.country).groupBy(\"country\").avg(\"age\").sort(\"avg(age)\").show()\n",
    "\n",
    "\n",
    "# # average & round\n",
    "# data.select(data.name, data.age, data.country).groupBy(\"country\").agg(rnd(avg(\"age\"), 2).alias(\"avg_age\")).show()"
   ]
  },
  {
   "cell_type": "code",
   "execution_count": null,
   "id": "4a360f71-49ce-4833-ac9e-8c4419f14e46",
   "metadata": {},
   "outputs": [],
   "source": []
  }
 ],
 "metadata": {
  "kernelspec": {
   "display_name": "Python 3 (ipykernel)",
   "language": "python",
   "name": "python3"
  },
  "language_info": {
   "codemirror_mode": {
    "name": "ipython",
    "version": 3
   },
   "file_extension": ".py",
   "mimetype": "text/x-python",
   "name": "python",
   "nbconvert_exporter": "python",
   "pygments_lexer": "ipython3",
   "version": "3.10.8"
  }
 },
 "nbformat": 4,
 "nbformat_minor": 5
}
