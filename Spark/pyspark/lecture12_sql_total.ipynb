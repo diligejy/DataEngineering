{
 "cells": [
  {
   "cell_type": "code",
   "execution_count": 4,
   "id": "a80c1716-a4c8-4280-9dfd-dfbe5c50d71b",
   "metadata": {},
   "outputs": [
    {
     "name": "stdout",
     "output_type": "stream",
     "text": [
      "+-----------------+----+\n",
      "|    customer_name|cost|\n",
      "+-----------------+----+\n",
      "|     Damion Wolfe|1397|\n",
      "| Benedict Frazier| 998|\n",
      "|  Giuseppe Miller| 997|\n",
      "|    Garret Martin| 997|\n",
      "|Erminia Robertson| 997|\n",
      "|     Milan Gibson| 996|\n",
      "|     Rudy Wheeler| 994|\n",
      "|   Kathey Baldwin| 994|\n",
      "|   Williemae Bell| 992|\n",
      "|Gearldine Aguilar| 988|\n",
      "|      Jewel Parks| 987|\n",
      "|     Hyman Castro| 985|\n",
      "|    Noriko Medina| 984|\n",
      "|     Garfield Day| 982|\n",
      "|      Dacia Adams| 981|\n",
      "|     Taisha Henry| 980|\n",
      "|    Branda Valdez| 978|\n",
      "|     Fumiko Weber| 976|\n",
      "|Geraldo Alexander| 975|\n",
      "|      Walker Pope| 975|\n",
      "+-----------------+----+\n",
      "only showing top 20 rows\n",
      "\n"
     ]
    }
   ],
   "source": [
    "from pyspark.sql import (functions as f, SparkSession, types as t)\n",
    "\n",
    "spark = SparkSession.builder.appName(\"df_total\").getOrCreate()\n",
    "\n",
    "table_schema = t.StructType([\n",
    "    t.StructField(\"customer_name\", t.StringType(), True),\n",
    "    t.StructField(\"product_id\", t.IntegerType(), True),\n",
    "    t.StructField(\"price\", t.IntegerType(), True)])\n",
    "\n",
    "csv_file_path = \"file:///home/jovyan/work/sample/product.csv\"\n",
    "df = spark.read.schema(table_schema).csv(csv_file_path)\n",
    "\n",
    "customer_spent = df.groupBy(\"customer_name\").agg(f.round(f.sum(\"price\"), 2).alias(\"cost\"))\n",
    "\n",
    "# customer_spent.show()\n",
    "\n",
    "sorted_customer_spent = customer_spent.orderBy(f.col(\"cost\").desc())\n",
    "sorted_customer_spent.show()"
   ]
  },
  {
   "cell_type": "code",
   "execution_count": null,
   "id": "1d64cb5b-8fbc-4c2c-bb3d-c446064fd1de",
   "metadata": {},
   "outputs": [],
   "source": []
  }
 ],
 "metadata": {
  "kernelspec": {
   "display_name": "Python 3 (ipykernel)",
   "language": "python",
   "name": "python3"
  },
  "language_info": {
   "codemirror_mode": {
    "name": "ipython",
    "version": 3
   },
   "file_extension": ".py",
   "mimetype": "text/x-python",
   "name": "python",
   "nbconvert_exporter": "python",
   "pygments_lexer": "ipython3",
   "version": "3.10.8"
  }
 },
 "nbformat": 4,
 "nbformat_minor": 5
}
