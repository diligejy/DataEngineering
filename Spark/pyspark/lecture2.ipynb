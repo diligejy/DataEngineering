{
 "cells": [
  {
   "cell_type": "code",
   "execution_count": 4,
   "id": "ceb04688-f128-492d-86cd-a93beb283899",
   "metadata": {},
   "outputs": [
    {
     "name": "stdout",
     "output_type": "stream",
     "text": [
      "[('world', 6), ('hello', 6)]\n"
     ]
    }
   ],
   "source": [
    "import pyspark\n",
    "\n",
    "test_file = \"file:///home/jovyan/work/sample/word.txt\"\n",
    "# sc = pyspark.SparkContext('local[*]')\n",
    "sc = pyspark.SparkContext.getOrCreate()\n",
    "\n",
    "text_file = sc.textFile(test_file)\n",
    "counts = text_file.flatMap(lambda line : line.split(\" \")) \\\n",
    "                .map(lambda word : (word, 1)) \\\n",
    "                .reduceByKey(lambda a, b: a + b)\n",
    "print(counts.collect())                                "
   ]
  },
  {
   "cell_type": "code",
   "execution_count": 5,
   "id": "a9fb763c-1f0e-4539-82e5-1855e8bde018",
   "metadata": {},
   "outputs": [],
   "source": [
    "counts = text_file.flatMap(lambda line: line.split(\" \"))"
   ]
  },
  {
   "cell_type": "code",
   "execution_count": null,
   "id": "a185738b-1515-49db-9e38-1db5d895e731",
   "metadata": {},
   "outputs": [],
   "source": []
  }
 ],
 "metadata": {
  "kernelspec": {
   "display_name": "Python 3 (ipykernel)",
   "language": "python",
   "name": "python3"
  },
  "language_info": {
   "codemirror_mode": {
    "name": "ipython",
    "version": 3
   },
   "file_extension": ".py",
   "mimetype": "text/x-python",
   "name": "python",
   "nbconvert_exporter": "python",
   "pygments_lexer": "ipython3",
   "version": "3.10.8"
  }
 },
 "nbformat": 4,
 "nbformat_minor": 5
}
